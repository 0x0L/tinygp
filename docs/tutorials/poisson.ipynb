{
 "cells": [
  {
   "cell_type": "code",
   "execution_count": null,
   "id": "c9335ef4-9488-427c-b9fd-6ac74d5da1d0",
   "metadata": {},
   "outputs": [],
   "source": [
    "try:\n",
    "    import tinygp\n",
    "except ImportError:\n",
    "    !pip install -q tinygp\n",
    "    \n",
    "try:\n",
    "    import numpyro\n",
    "except ImportError:\n",
    "    !pip uninstall -y jax jaxlib\n",
    "    !pip install -q numpyro jax jaxlib\n",
    "    \n",
    "try:\n",
    "    import arviz\n",
    "except ImportError:\n",
    "    !pip install arviz"
   ]
  },
  {
   "cell_type": "markdown",
   "id": "a63ce874-83e2-417b-9238-e46d57bd7fd3",
   "metadata": {},
   "source": [
    "# Alternative likelihoods"
   ]
  },
  {
   "cell_type": "code",
   "execution_count": null,
   "id": "f0047440-ef0e-490c-abc0-45ed3f396ceb",
   "metadata": {},
   "outputs": [],
   "source": [
    "import numpy as np\n",
    "import matplotlib.pyplot as plt\n",
    "\n",
    "random = np.random.default_rng(203618)\n",
    "x = np.linspace(-3, 3, 20)\n",
    "true_log_rate = 2 * np.cos(2 * x)\n",
    "y = random.poisson(np.exp(true_log_rate))\n",
    "plt.plot(x, y, \".k\", label=\"data\")\n",
    "plt.plot(x, np.exp(true_log_rate), \"C1\", label=\"true rate\")\n",
    "plt.legend(loc=2)\n",
    "plt.xlabel(\"x\")\n",
    "_ = plt.ylabel(\"counts\")"
   ]
  },
  {
   "cell_type": "code",
   "execution_count": null,
   "id": "d0b8f667-bacb-4385-9369-e831a65d84a0",
   "metadata": {},
   "outputs": [],
   "source": [
    "from jax.config import config\n",
    "\n",
    "config.update(\"jax_enable_x64\", True)\n",
    "\n",
    "import jax.numpy as jnp\n",
    "from jax import random\n",
    "import numpyro\n",
    "import numpyro.distributions as dist\n",
    "from numpyro.infer import MCMC, NUTS\n",
    "\n",
    "from tinygp import kernels, GaussianProcess\n",
    "\n",
    "\n",
    "def model(x, y=None):\n",
    "    mean = numpyro.sample(\"mean\", dist.Normal(0.0, 2.0))\n",
    "    sigma = numpyro.sample(\"sigma\", dist.HalfNormal(3.0))\n",
    "    rho = numpyro.sample(\"rho\", dist.HalfNormal(10.0))\n",
    "    kernel = sigma ** 2 * kernels.Matern32(rho)\n",
    "    gp = GaussianProcess(kernel, x, diag=1e-5, mean=mean)\n",
    "    log_rate = numpyro.sample(\n",
    "        \"log_rate\",\n",
    "        dist.MultivariateNormal(loc=gp.loc, scale_tril=gp.scale_tril),\n",
    "    )\n",
    "    numpyro.sample(\"obs\", dist.Poisson(jnp.exp(log_rate)), obs=y)\n",
    "\n",
    "\n",
    "nuts_kernel = NUTS(model, target_accept_prob=0.9)\n",
    "mcmc = MCMC(\n",
    "    nuts_kernel,\n",
    "    num_warmup=1000,\n",
    "    num_samples=1000,\n",
    "    num_chains=2,\n",
    "    progress_bar=False,\n",
    ")\n",
    "rng_key = random.PRNGKey(55873)"
   ]
  },
  {
   "cell_type": "code",
   "execution_count": null,
   "id": "51a962e0-05ea-403d-8af0-0a714b100a77",
   "metadata": {},
   "outputs": [],
   "source": [
    "%%time\n",
    "mcmc.run(rng_key, x, y=y)\n",
    "samples = mcmc.get_samples()\n",
    "_ = samples[\"log_rate\"].block_until_ready()"
   ]
  },
  {
   "cell_type": "code",
   "execution_count": null,
   "id": "c9135c5e-2ae9-4632-a77e-9ce76efd62f5",
   "metadata": {},
   "outputs": [],
   "source": [
    "import arviz as az\n",
    "\n",
    "data = az.from_numpyro(mcmc)\n",
    "az.summary(\n",
    "    data, var_names=[v for v in data.posterior.data_vars if v != \"log_rate\"]\n",
    ")"
   ]
  },
  {
   "cell_type": "code",
   "execution_count": null,
   "id": "af823999-5aa2-4769-a302-b60e5df7d1d2",
   "metadata": {},
   "outputs": [],
   "source": [
    "q = np.percentile(samples[\"log_rate\"], [5, 25, 50, 75, 95], axis=0)\n",
    "plt.plot(x, y, \".k\", label=\"data\")\n",
    "plt.plot(x, np.exp(true_log_rate), color=\"C1\", label=\"true rate\")\n",
    "plt.plot(x, np.exp(q[2]), color=\"C0\", label=\"inferred rate\")\n",
    "plt.fill_between(x, np.exp(q[0]), np.exp(q[-1]), alpha=0.3, lw=0, color=\"C0\")\n",
    "plt.fill_between(x, np.exp(q[1]), np.exp(q[-2]), alpha=0.3, lw=0, color=\"C0\")\n",
    "plt.legend(loc=2)\n",
    "plt.xlabel(\"x\")\n",
    "_ = plt.ylabel(\"counts\")"
   ]
  },
  {
   "cell_type": "code",
   "execution_count": null,
   "id": "7c938027-6165-484f-baa2-7852eaea3591",
   "metadata": {},
   "outputs": [],
   "source": []
  }
 ],
 "metadata": {
  "kernelspec": {
   "display_name": "Python 3 (ipykernel)",
   "language": "python",
   "name": "python3"
  },
  "language_info": {
   "codemirror_mode": {
    "name": "ipython",
    "version": 3
   },
   "file_extension": ".py",
   "mimetype": "text/x-python",
   "name": "python",
   "nbconvert_exporter": "python",
   "pygments_lexer": "ipython3",
   "version": "3.9.4"
  }
 },
 "nbformat": 4,
 "nbformat_minor": 5
}
