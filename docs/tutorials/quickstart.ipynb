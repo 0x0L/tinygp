{
 "cells": [
  {
   "cell_type": "code",
   "execution_count": null,
   "id": "false-finder",
   "metadata": {
    "tags": [
     "hide-cell"
    ]
   },
   "outputs": [],
   "source": [
    "try:\n",
    "    import tinygp\n",
    "except ImportError:\n",
    "    !pip install -q tinygp"
   ]
  },
  {
   "cell_type": "markdown",
   "id": "polish-inquiry",
   "metadata": {},
   "source": [
    "# The usual CO2 example"
   ]
  },
  {
   "cell_type": "code",
   "execution_count": null,
   "id": "physical-sarah",
   "metadata": {},
   "outputs": [],
   "source": [
    "import numpy as np\n",
    "import matplotlib.pyplot as plt\n",
    "from statsmodels.datasets import co2\n",
    "\n",
    "data = co2.load_pandas().data\n",
    "t = 2000 + (np.array(data.index.to_julian_date()) - 2451545.0) / 365.25\n",
    "y = np.array(data.co2)\n",
    "m = np.isfinite(t) & np.isfinite(y) & (t < 1996)\n",
    "t, y = t[m][::4], y[m][::4]\n",
    "\n",
    "plt.plot(t, y, \".k\")\n",
    "plt.xlim(t.min(), t.max())\n",
    "plt.xlabel(\"year\")\n",
    "_ = plt.ylabel(\"CO$_2$ in ppm\")"
   ]
  },
  {
   "cell_type": "code",
   "execution_count": null,
   "id": "excessive-reading",
   "metadata": {},
   "outputs": [],
   "source": [
    "from jax.config import config\n",
    "\n",
    "config.update(\"jax_enable_x64\", True)\n",
    "\n",
    "import jax\n",
    "import jax.numpy as jnp\n",
    "\n",
    "from tinygp import kernels, GaussianProcess\n",
    "\n",
    "\n",
    "def build_kernel(theta):\n",
    "    k1 = theta[0] ** 2 * kernels.ExpSquared(theta[1])\n",
    "    k2 = (\n",
    "        theta[2] ** 2\n",
    "        * kernels.ExpSquared(theta[3])\n",
    "        * kernels.ExpSineSquared(period=theta[4], gamma=theta[5])\n",
    "    )\n",
    "    k3 = theta[6] ** 2 * kernels.AffineTransform(\n",
    "        kernels.RationalQuadratic(alpha=theta[8]), metric=theta[7]\n",
    "    )\n",
    "    k4 = theta[9] ** 2 * kernels.ExpSquared(theta[10])\n",
    "    return k1 + k2 + k3 + k4\n",
    "\n",
    "\n",
    "def build_gp(theta, X):\n",
    "    return GaussianProcess(\n",
    "        build_kernel(jnp.exp(theta)),\n",
    "        X,\n",
    "        diag=jnp.exp(2 * theta[11]),\n",
    "        mean=theta[12],\n",
    "    )\n",
    "\n",
    "\n",
    "def neg_log_likelihood(theta, X, y):\n",
    "    gp = build_gp(theta, X)\n",
    "    return -gp.condition(y)\n",
    "\n",
    "\n",
    "theta_init = np.append(\n",
    "    np.log(\n",
    "        [66.0, 67.0, 2.4, 90.0, 1.0, 4.3, 0.66, 1.2, 0.78, 0.18, 1.6, 0.19]\n",
    "    ),\n",
    "    340.0,\n",
    ")\n",
    "obj = jax.jit(jax.value_and_grad(neg_log_likelihood))\n",
    "print(f\"Initial negative log likelihood: {obj(theta_init, t, y)[0]}\")"
   ]
  },
  {
   "cell_type": "code",
   "execution_count": null,
   "id": "verified-island",
   "metadata": {},
   "outputs": [],
   "source": [
    "from scipy.optimize import minimize\n",
    "\n",
    "soln = minimize(obj, theta_init, jac=True, args=(t, y))\n",
    "print(f\"Final negative log likelihood: {soln.fun}\")"
   ]
  },
  {
   "cell_type": "code",
   "execution_count": null,
   "id": "latin-weather",
   "metadata": {},
   "outputs": [],
   "source": [
    "x = np.linspace(max(t), 2025, 2000)\n",
    "gp = build_gp(soln.x, t)\n",
    "mu, var = gp.predict(y, x, return_var=True)\n",
    "\n",
    "plt.plot(t, y, \".k\")\n",
    "plt.fill_between(\n",
    "    x, mu + np.sqrt(var), mu - np.sqrt(var), color=\"C0\", alpha=0.5\n",
    ")\n",
    "plt.plot(x, mu, color=\"C0\", lw=2)\n",
    "\n",
    "plt.xlim(t.min(), 2025)\n",
    "plt.xlabel(\"year\")\n",
    "_ = plt.ylabel(\"CO$_2$ in ppm\")"
   ]
  },
  {
   "cell_type": "code",
   "execution_count": null,
   "id": "ab2de9cb-9b13-4cf1-b8be-6d533f9abb37",
   "metadata": {},
   "outputs": [],
   "source": []
  }
 ],
 "metadata": {
  "kernelspec": {
   "display_name": "Python 3 (ipykernel)",
   "language": "python",
   "name": "python3"
  },
  "language_info": {
   "codemirror_mode": {
    "name": "ipython",
    "version": 3
   },
   "file_extension": ".py",
   "mimetype": "text/x-python",
   "name": "python",
   "nbconvert_exporter": "python",
   "pygments_lexer": "ipython3",
   "version": "3.9.9"
  }
 },
 "nbformat": 4,
 "nbformat_minor": 5
}
