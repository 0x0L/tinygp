{
 "cells": [
  {
   "cell_type": "code",
   "execution_count": null,
   "id": "vertical-survivor",
   "metadata": {
    "tags": [
     "hide-cell"
    ]
   },
   "outputs": [],
   "source": [
    "try:\n",
    "    import tinygp\n",
    "except ImportError:\n",
    "    !pip install -q tinygp\n",
    "    \n",
    "try:\n",
    "    import numpyro\n",
    "except ImportError:\n",
    "    !pip uninstall -y jax jaxlib\n",
    "    !pip install -q numpyro jax jaxlib\n",
    "    \n",
    "try:\n",
    "    import arviz\n",
    "except ImportError:\n",
    "    !pip install arviz"
   ]
  },
  {
   "cell_type": "markdown",
   "id": "arctic-compilation",
   "metadata": {},
   "source": [
    "# Posterior inference using numpyro"
   ]
  },
  {
   "cell_type": "code",
   "execution_count": null,
   "id": "insured-myrtle",
   "metadata": {},
   "outputs": [],
   "source": [
    "import numpy as np\n",
    "import matplotlib.pyplot as plt\n",
    "\n",
    "np.random.seed(42)\n",
    "\n",
    "t = np.sort(\n",
    "    np.append(\n",
    "        np.random.uniform(0, 3.8, 28),\n",
    "        np.random.uniform(5.5, 10, 18),\n",
    "    )\n",
    ")\n",
    "yerr = np.random.uniform(0.08, 0.22, len(t))\n",
    "y = (\n",
    "    0.2 * (t - 5)\n",
    "    + np.sin(3 * t + 0.1 * (t - 5) ** 2)\n",
    "    + yerr * np.random.randn(len(t))\n",
    ")\n",
    "\n",
    "true_t = np.linspace(0, 10, 100)\n",
    "true_y = 0.2 * (true_t - 5) + np.sin(3 * true_t + 0.1 * (true_t - 5) ** 2)\n",
    "\n",
    "plt.plot(true_t, true_y, \"k\", lw=1.5, alpha=0.3)\n",
    "plt.errorbar(t, y, yerr=yerr, fmt=\".k\", capsize=0)\n",
    "plt.xlabel(\"x [day]\")\n",
    "plt.ylabel(\"y [ppm]\")\n",
    "plt.xlim(0, 10)\n",
    "plt.ylim(-2.5, 2.5)\n",
    "_ = plt.title(\"simulated data\")"
   ]
  },
  {
   "cell_type": "code",
   "execution_count": null,
   "id": "recovered-rubber",
   "metadata": {},
   "outputs": [],
   "source": [
    "from jax.config import config\n",
    "\n",
    "config.update(\"jax_enable_x64\", True)\n",
    "\n",
    "from jax import random\n",
    "import numpyro\n",
    "import numpyro.distributions as dist\n",
    "from numpyro.infer import MCMC, NUTS\n",
    "\n",
    "from tinygp import kernels, GaussianProcess\n",
    "\n",
    "\n",
    "prior_sigma = 5.0\n",
    "\n",
    "\n",
    "def numpyro_model(t, yerr, y=None):\n",
    "    mean = numpyro.sample(\"mean\", dist.Normal(0.0, prior_sigma))\n",
    "    jitter = numpyro.sample(\"jitter\", dist.HalfNormal(prior_sigma))\n",
    "\n",
    "    sigma1 = numpyro.sample(\"sigma1\", dist.HalfNormal(prior_sigma))\n",
    "    rho1 = numpyro.sample(\"rho1\", dist.HalfNormal(prior_sigma))\n",
    "    tau = numpyro.sample(\"tau\", dist.HalfNormal(prior_sigma))\n",
    "    kernel1 = sigma1 ** 2 * kernels.ExpSquared(tau) * kernels.Cosine(rho1)\n",
    "\n",
    "    sigma2 = numpyro.sample(\"sigma2\", dist.HalfNormal(prior_sigma))\n",
    "    rho2 = numpyro.sample(\"rho2\", dist.HalfNormal(prior_sigma))\n",
    "    kernel2 = sigma2 ** 2 * kernels.Matern32(rho2)\n",
    "\n",
    "    kernel = kernel1 + kernel2\n",
    "    gp = GaussianProcess(kernel, t, diag=yerr ** 2 + jitter, mean=mean)\n",
    "\n",
    "    numpyro.sample(\n",
    "        \"gp\",\n",
    "        dist.MultivariateNormal(loc=gp.loc, scale_tril=gp.scale_tril),\n",
    "        obs=y,\n",
    "    )\n",
    "\n",
    "    if y is not None:\n",
    "        numpyro.deterministic(\"pred\", gp.predict(y, true_t))\n",
    "\n",
    "\n",
    "nuts_kernel = NUTS(numpyro_model, dense_mass=True, target_accept_prob=0.9)\n",
    "mcmc = MCMC(\n",
    "    nuts_kernel,\n",
    "    num_warmup=1000,\n",
    "    num_samples=1000,\n",
    "    num_chains=2,\n",
    "    progress_bar=False,\n",
    ")\n",
    "rng_key = random.PRNGKey(34923)"
   ]
  },
  {
   "cell_type": "code",
   "execution_count": null,
   "id": "affected-selection",
   "metadata": {},
   "outputs": [],
   "source": [
    "%%time\n",
    "mcmc.run(rng_key, t, yerr, y=y)\n",
    "samples = mcmc.get_samples()\n",
    "pred = samples[\"pred\"].block_until_ready()  # Blocking to get timing right"
   ]
  },
  {
   "cell_type": "code",
   "execution_count": null,
   "id": "alike-antigua",
   "metadata": {},
   "outputs": [],
   "source": [
    "q = np.percentile(pred, [5, 50, 95], axis=0)\n",
    "plt.fill_between(true_t, q[0], q[2], color=\"C0\", alpha=0.5)\n",
    "plt.plot(true_t, q[1], color=\"C0\", lw=2)\n",
    "\n",
    "plt.errorbar(t, y, yerr=yerr, fmt=\".k\", capsize=0)\n",
    "plt.xlabel(\"x [day]\")\n",
    "plt.ylabel(\"y [ppm]\")\n",
    "plt.xlim(0, 10)\n",
    "plt.ylim(-2.5, 2.5)\n",
    "_ = plt.title(\"posterior inference\")"
   ]
  },
  {
   "cell_type": "code",
   "execution_count": null,
   "id": "chubby-stanford",
   "metadata": {},
   "outputs": [],
   "source": [
    "import arviz as az\n",
    "\n",
    "data = az.from_numpyro(mcmc)\n",
    "az.summary(\n",
    "    data, var_names=[v for v in data.posterior.data_vars if v != \"pred\"]\n",
    ")"
   ]
  },
  {
   "cell_type": "code",
   "execution_count": null,
   "id": "referenced-principal",
   "metadata": {},
   "outputs": [],
   "source": []
  }
 ],
 "metadata": {
  "kernelspec": {
   "display_name": "Python 3 (ipykernel)",
   "language": "python",
   "name": "python3"
  },
  "language_info": {
   "codemirror_mode": {
    "name": "ipython",
    "version": 3
   },
   "file_extension": ".py",
   "mimetype": "text/x-python",
   "name": "python",
   "nbconvert_exporter": "python",
   "pygments_lexer": "ipython3",
   "version": "3.9.4"
  }
 },
 "nbformat": 4,
 "nbformat_minor": 5
}
